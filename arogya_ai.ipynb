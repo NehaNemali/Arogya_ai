{
  "nbformat": 4,
  "nbformat_minor": 0,
  "metadata": {
    "colab": {
      "provenance": [],
      "authorship_tag": "ABX9TyNUmUk2KWBdLBhr5cKkT9EB",
      "include_colab_link": true
    },
    "kernelspec": {
      "name": "python3",
      "display_name": "Python 3"
    },
    "language_info": {
      "name": "python"
    }
  },
  "cells": [
    {
      "cell_type": "markdown",
      "metadata": {
        "id": "view-in-github",
        "colab_type": "text"
      },
      "source": [
        "<a href=\"https://colab.research.google.com/github/NehaNemali/Arogya_ai/blob/main/arogya_ai.ipynb\" target=\"_parent\"><img src=\"https://colab.research.google.com/assets/colab-badge.svg\" alt=\"Open In Colab\"/></a>"
      ]
    },
    {
      "cell_type": "code",
      "source": [
        "import pandas as pd\n",
        "from sklearn.model_selection import train_test_split\n",
        "from sklearn.preprocessing import LabelEncoder\n",
        "\n",
        "# Load your dataset\n",
        "df = pd.read_csv(\"Symptom2Disease.csv\")\n",
        "df = df[['text', 'label']].dropna()\n",
        "\n",
        "# Encode target labels\n",
        "label_encoder = LabelEncoder()\n",
        "df['label_enc'] = label_encoder.fit_transform(df['label'])\n",
        "\n",
        "# Train-validation split\n",
        "train_texts, val_texts, train_labels, val_labels = train_test_split(\n",
        "    df['text'].tolist(), df['label_enc'].tolist(), test_size=0.2, random_state=42\n",
        ")\n",
        "\n",
        "num_labels = len(label_encoder.classes_)\n"
      ],
      "metadata": {
        "id": "QhTO1TAVa_7U"
      },
      "execution_count": 18,
      "outputs": []
    },
    {
      "cell_type": "code",
      "source": [
        "import torch\n",
        "from torch.utils.data import Dataset, DataLoader\n",
        "from transformers import DistilBertTokenizer\n",
        "\n",
        "tokenizer = DistilBertTokenizer.from_pretrained('distilbert-base-uncased')\n",
        "\n",
        "class SymptomDataset(Dataset):\n",
        "    def __init__(self, texts, labels, tokenizer, max_len=128):\n",
        "        self.texts = texts\n",
        "        self.labels = labels\n",
        "        self.tokenizer = tokenizer\n",
        "        self.max_len = max_len\n",
        "\n",
        "    def __len__(self):\n",
        "        return len(self.texts)\n",
        "\n",
        "    def __getitem__(self, idx):\n",
        "        encodings = self.tokenizer(\n",
        "            self.texts[idx],\n",
        "            max_length=self.max_len,\n",
        "            padding='max_length',\n",
        "            truncation=True,\n",
        "            return_attention_mask=True,\n",
        "            return_tensors='pt'\n",
        "        )\n",
        "        return {\n",
        "            'input_ids': encodings['input_ids'].squeeze(),\n",
        "            'attention_mask': encodings['attention_mask'].squeeze(),\n",
        "            'labels': torch.tensor(self.labels[idx], dtype=torch.long)\n",
        "        }\n",
        "\n",
        "# Datasets and Dataloaders\n",
        "train_dataset = SymptomDataset(train_texts, train_labels, tokenizer)\n",
        "val_dataset = SymptomDataset(val_texts, val_labels, tokenizer)\n",
        "\n",
        "train_loader = DataLoader(train_dataset, batch_size=16, shuffle=True)\n",
        "val_loader = DataLoader(val_dataset, batch_size=16)\n"
      ],
      "metadata": {
        "id": "nFmsJoOdbGYQ"
      },
      "execution_count": 19,
      "outputs": []
    },
    {
      "cell_type": "code",
      "source": [
        "from transformers import DistilBertForSequenceClassification\n",
        "\n",
        "model = DistilBertForSequenceClassification.from_pretrained(\n",
        "    'distilbert-base-uncased',\n",
        "    num_labels=num_labels\n",
        ")\n",
        "device = torch.device(\"cuda\" if torch.cuda.is_available() else \"cpu\")\n",
        "model.to(device);\n",
        "\n"
      ],
      "metadata": {
        "id": "yJHdPHWMbKR0"
      },
      "execution_count": 20,
      "outputs": []
    },
    {
      "cell_type": "code",
      "source": [
        "from torch.optim import AdamW\n",
        "from transformers import get_scheduler\n",
        "\n",
        "\n",
        "optimizer = AdamW(model.parameters(), lr=2e-5)\n",
        "\n",
        "num_epochs = 4\n",
        "num_training_steps = num_epochs * len(train_loader)\n",
        "lr_scheduler = get_scheduler(\n",
        "    \"linear\", optimizer=optimizer,\n",
        "    num_warmup_steps=0,\n",
        "    num_training_steps=num_training_steps\n",
        ")\n",
        "\n",
        "from torch.nn import CrossEntropyLoss\n",
        "from tqdm import tqdm\n"
      ],
      "metadata": {
        "id": "pZQCc1NkbMSS"
      },
      "execution_count": 21,
      "outputs": []
    },
    {
      "cell_type": "code",
      "source": [
        "model.train()\n",
        "for epoch in range(num_epochs):\n",
        "    print(f\"Epoch {epoch+1}/{num_epochs}\")\n",
        "    loop = tqdm(train_loader, leave=True)\n",
        "    total_loss = 0\n",
        "\n",
        "    for batch in loop:\n",
        "        input_ids = batch['input_ids'].to(device)\n",
        "        attention_mask = batch['attention_mask'].to(device)\n",
        "        labels = batch['labels'].to(device)\n",
        "\n",
        "        outputs = model(input_ids=input_ids, attention_mask=attention_mask, labels=labels)\n",
        "        loss = outputs.loss\n",
        "\n",
        "        loss.backward()\n",
        "        optimizer.step()\n",
        "        lr_scheduler.step()\n",
        "        optimizer.zero_grad()\n",
        "\n",
        "        total_loss += loss.item()\n",
        "        loop.set_description(f\"Epoch {epoch+1}\")\n",
        "        loop.set_postfix(loss=loss.item())\n"
      ],
      "metadata": {
        "colab": {
          "base_uri": "https://localhost:8080/"
        },
        "id": "I3huTFEfbOYF",
        "outputId": "fea1f0e3-09b1-49f1-985f-abd9c566e2db"
      },
      "execution_count": 22,
      "outputs": [
        {
          "output_type": "stream",
          "name": "stdout",
          "text": [
            "Epoch 1/4\n"
          ]
        },
        {
          "output_type": "stream",
          "name": "stderr",
          "text": [
            "Epoch 1: 100%|██████████| 60/60 [09:58<00:00,  9.97s/it, loss=2.8]\n"
          ]
        },
        {
          "output_type": "stream",
          "name": "stdout",
          "text": [
            "Epoch 2/4\n"
          ]
        },
        {
          "output_type": "stream",
          "name": "stderr",
          "text": [
            "Epoch 2: 100%|██████████| 60/60 [10:00<00:00, 10.02s/it, loss=2.16]\n"
          ]
        },
        {
          "output_type": "stream",
          "name": "stdout",
          "text": [
            "Epoch 3/4\n"
          ]
        },
        {
          "output_type": "stream",
          "name": "stderr",
          "text": [
            "Epoch 3: 100%|██████████| 60/60 [10:04<00:00, 10.08s/it, loss=1.7]\n"
          ]
        },
        {
          "output_type": "stream",
          "name": "stdout",
          "text": [
            "Epoch 4/4\n"
          ]
        },
        {
          "output_type": "stream",
          "name": "stderr",
          "text": [
            "Epoch 4: 100%|██████████| 60/60 [10:24<00:00, 10.40s/it, loss=1.6]\n"
          ]
        }
      ]
    },
    {
      "cell_type": "code",
      "source": [
        "from sklearn.metrics import classification_report\n",
        "\n",
        "model.eval()\n",
        "predictions, true_labels = [], []\n",
        "\n",
        "with torch.no_grad():\n",
        "    for batch in val_loader:\n",
        "        input_ids = batch['input_ids'].to(device)\n",
        "        attention_mask = batch['attention_mask'].to(device)\n",
        "        labels = batch['labels'].to(device)\n",
        "\n",
        "        outputs = model(input_ids=input_ids, attention_mask=attention_mask)\n",
        "        logits = outputs.logits\n",
        "        preds = torch.argmax(logits, dim=1)\n",
        "\n",
        "        predictions.extend(preds.cpu().numpy())\n",
        "        true_labels.extend(labels.cpu().numpy())\n",
        "\n",
        "# Evaluation Report\n",
        "print(classification_report(true_labels, predictions, target_names=label_encoder.classes_, zero_division=0))\n",
        "\n"
      ],
      "metadata": {
        "id": "1XUhLnGIbQuM",
        "colab": {
          "base_uri": "https://localhost:8080/"
        },
        "outputId": "bc53bfff-83d7-42ca-b1b3-64f7f6d7ac83"
      },
      "execution_count": 23,
      "outputs": [
        {
          "output_type": "stream",
          "name": "stdout",
          "text": [
            "                                 precision    recall  f1-score   support\n",
            "\n",
            "                           Acne       1.00      1.00      1.00         7\n",
            "                      Arthritis       0.91      1.00      0.95        10\n",
            "               Bronchial Asthma       0.92      1.00      0.96        11\n",
            "           Cervical spondylosis       1.00      1.00      1.00         7\n",
            "                    Chicken pox       0.78      0.58      0.67        12\n",
            "                    Common Cold       0.92      0.92      0.92        12\n",
            "                         Dengue       0.86      0.50      0.63        12\n",
            "          Dimorphic Hemorrhoids       1.00      1.00      1.00         7\n",
            "               Fungal infection       0.87      1.00      0.93        13\n",
            "                   Hypertension       0.77      1.00      0.87        10\n",
            "                       Impetigo       0.79      1.00      0.88        11\n",
            "                       Jaundice       1.00      1.00      1.00        11\n",
            "                        Malaria       1.00      1.00      1.00        11\n",
            "                       Migraine       0.75      0.90      0.82        10\n",
            "                      Pneumonia       0.91      0.91      0.91        11\n",
            "                      Psoriasis       0.71      0.83      0.77         6\n",
            "                        Typhoid       0.75      1.00      0.86         9\n",
            "                 Varicose Veins       1.00      0.92      0.96        12\n",
            "                        allergy       0.82      0.75      0.78        12\n",
            "                       diabetes       1.00      0.25      0.40         8\n",
            "                  drug reaction       0.57      0.80      0.67         5\n",
            "gastroesophageal reflux disease       0.60      0.82      0.69        11\n",
            "           peptic ulcer disease       1.00      0.27      0.43        11\n",
            "        urinary tract infection       0.85      1.00      0.92        11\n",
            "\n",
            "                       accuracy                           0.85       240\n",
            "                      macro avg       0.86      0.85      0.83       240\n",
            "                   weighted avg       0.87      0.85      0.83       240\n",
            "\n"
          ]
        }
      ]
    }
  ]
}